{
 "cells": [
  {
   "cell_type": "code",
   "execution_count": 1,
   "metadata": {
    "collapsed": true
   },
   "outputs": [],
   "source": [
    "import graphlab as gl\n",
    "gl.canvas.set_target('ipynb')"
   ]
  },
  {
   "cell_type": "code",
   "execution_count": 2,
   "metadata": {
    "collapsed": false
   },
   "outputs": [
    {
     "name": "stderr",
     "output_type": "stream",
     "text": [
      "[INFO] graphlab.cython.cy_server: GraphLab Create v2.1 started. Logging: /tmp/graphlab_server_1496973777.log\n"
     ]
    },
    {
     "name": "stdout",
     "output_type": "stream",
     "text": [
      "This non-commercial license of GraphLab Create for academic use is assigned to nicholas.capofari@spsmail.cuny.edu and will expire on June 06, 2018.\n"
     ]
    }
   ],
   "source": [
    "V = ['Andre', 'Beverly', 'Carol', 'Diane', 'Ed', \n",
    "     'Fernando', 'Garth', 'Heather', 'Ike', 'Jane']\n",
    "vertices = gl.SFrame(V)"
   ]
  },
  {
   "cell_type": "code",
   "execution_count": 3,
   "metadata": {
    "collapsed": false
   },
   "outputs": [
    {
     "data": {
      "text/html": [
       "<pre>Finished parsing file /Users/ncapofari/620/data/krackhardt_edges.csv</pre>"
      ],
      "text/plain": [
       "Finished parsing file /Users/ncapofari/620/data/krackhardt_edges.csv"
      ]
     },
     "metadata": {},
     "output_type": "display_data"
    },
    {
     "data": {
      "text/html": [
       "<pre>Parsing completed. Parsed 18 lines in 0.026073 secs.</pre>"
      ],
      "text/plain": [
       "Parsing completed. Parsed 18 lines in 0.026073 secs."
      ]
     },
     "metadata": {},
     "output_type": "display_data"
    },
    {
     "name": "stdout",
     "output_type": "stream",
     "text": [
      "------------------------------------------------------\n",
      "Inferred types from first 100 line(s) of file as \n",
      "column_type_hints=[str,str]\n",
      "If parsing fails due to incorrect types, you can correct\n",
      "the inferred type list above and pass it to read_csv in\n",
      "the column_type_hints argument\n",
      "------------------------------------------------------\n"
     ]
    },
    {
     "data": {
      "text/html": [
       "<pre>Finished parsing file /Users/ncapofari/620/data/krackhardt_edges.csv</pre>"
      ],
      "text/plain": [
       "Finished parsing file /Users/ncapofari/620/data/krackhardt_edges.csv"
      ]
     },
     "metadata": {},
     "output_type": "display_data"
    }
   ],
   "source": [
    "edges = gl.SFrame.read_csv('data/krackhardt_edges.csv')"
   ]
  },
  {
   "cell_type": "code",
   "execution_count": 4,
   "metadata": {
    "collapsed": false
   },
   "outputs": [
    {
     "data": {
      "text/html": [
       "<pre>Parsing completed. Parsed 18 lines in 0.010993 secs.</pre>"
      ],
      "text/plain": [
       "Parsing completed. Parsed 18 lines in 0.010993 secs."
      ]
     },
     "metadata": {},
     "output_type": "display_data"
    },
    {
     "data": {
      "application/javascript": [
       "$(\"head\").append($(\"<link/>\").attr({\n",
       "  rel:  \"stylesheet\",\n",
       "  type: \"text/css\",\n",
       "  href: \"//cdnjs.cloudflare.com/ajax/libs/font-awesome/4.1.0/css/font-awesome.min.css\"\n",
       "}));\n",
       "$(\"head\").append($(\"<link/>\").attr({\n",
       "  rel:  \"stylesheet\",\n",
       "  type: \"text/css\",\n",
       "  href: \"https://static.turi.com/products/graphlab-create/2.1/canvas/css/canvas.css\"\n",
       "}));\n",
       "\n",
       "            (function(){\n",
       "\n",
       "                var e = null;\n",
       "                if (typeof element == 'undefined') {\n",
       "                    var scripts = document.getElementsByTagName('script');\n",
       "                    var thisScriptTag = scripts[scripts.length-1];\n",
       "                    var parentDiv = thisScriptTag.parentNode;\n",
       "                    e = document.createElement('div');\n",
       "                    parentDiv.appendChild(e);\n",
       "                } else {\n",
       "                    e = element[0];\n",
       "                }\n",
       "\n",
       "                if (typeof requirejs !== 'undefined') {\n",
       "                    // disable load timeout; ipython_app.js is large and can take a while to load.\n",
       "                    requirejs.config({waitSeconds: 0});\n",
       "                }\n",
       "\n",
       "                require(['https://static.turi.com/products/graphlab-create/2.1/canvas/js/ipython_app.js'], function(IPythonApp){\n",
       "                    var app = new IPythonApp();\n",
       "                    app.attachView('sframe','Summary', {\"ipython\": true, \"sketch\": {\"X1\": {\"complete\": true, \"numeric\": false, \"num_unique\": 10, \"num_undefined\": 0, \"progress\": 1.0, \"frequent_items\": {\"Heather\": {\"frequency\": 1, \"value\": \"Heather\"}, \"Ed\": {\"frequency\": 1, \"value\": \"Ed\"}, \"Diane\": {\"frequency\": 1, \"value\": \"Diane\"}, \"Fernando\": {\"frequency\": 1, \"value\": \"Fernando\"}, \"Andre\": {\"frequency\": 1, \"value\": \"Andre\"}, \"Ike\": {\"frequency\": 1, \"value\": \"Ike\"}, \"Garth\": {\"frequency\": 1, \"value\": \"Garth\"}, \"Beverly\": {\"frequency\": 1, \"value\": \"Beverly\"}, \"Carol\": {\"frequency\": 1, \"value\": \"Carol\"}, \"Jane\": {\"frequency\": 1, \"value\": \"Jane\"}}, \"size\": 10}}, \"selected_variable\": {\"name\": [\"vertices\"], \"descriptives\": {\"rows\": 10, \"columns\": 1}, \"view_component\": \"Summary\", \"view_file\": \"sframe\", \"view_params\": {\"y\": null, \"x\": null, \"columns\": [\"X1\"], \"view\": null}, \"view_components\": [\"Summary\", \"Table\", \"Bar Chart\", \"BoxWhisker Plot\", \"Line Chart\", \"Scatter Plot\", \"Heat Map\", \"Plots\"], \"type\": \"SFrame\", \"columns\": [{\"dtype\": \"str\", \"name\": \"X1\"}], \"column_identifiers\": [\"X1\"]}, \"columns\": [{\"dtype\": \"str\", \"name\": \"X1\"}]}, e);\n",
       "                });\n",
       "            })();\n",
       "        "
      ]
     },
     "metadata": {},
     "output_type": "display_data"
    }
   ],
   "source": [
    "vertices.show()"
   ]
  },
  {
   "cell_type": "code",
   "execution_count": 5,
   "metadata": {
    "collapsed": false
   },
   "outputs": [
    {
     "data": {
      "application/javascript": [
       "$(\"head\").append($(\"<link/>\").attr({\n",
       "  rel:  \"stylesheet\",\n",
       "  type: \"text/css\",\n",
       "  href: \"//cdnjs.cloudflare.com/ajax/libs/font-awesome/4.1.0/css/font-awesome.min.css\"\n",
       "}));\n",
       "$(\"head\").append($(\"<link/>\").attr({\n",
       "  rel:  \"stylesheet\",\n",
       "  type: \"text/css\",\n",
       "  href: \"https://static.turi.com/products/graphlab-create/2.1/canvas/css/canvas.css\"\n",
       "}));\n",
       "\n",
       "            (function(){\n",
       "\n",
       "                var e = null;\n",
       "                if (typeof element == 'undefined') {\n",
       "                    var scripts = document.getElementsByTagName('script');\n",
       "                    var thisScriptTag = scripts[scripts.length-1];\n",
       "                    var parentDiv = thisScriptTag.parentNode;\n",
       "                    e = document.createElement('div');\n",
       "                    parentDiv.appendChild(e);\n",
       "                } else {\n",
       "                    e = element[0];\n",
       "                }\n",
       "\n",
       "                if (typeof requirejs !== 'undefined') {\n",
       "                    // disable load timeout; ipython_app.js is large and can take a while to load.\n",
       "                    requirejs.config({waitSeconds: 0});\n",
       "                }\n",
       "\n",
       "                require(['https://static.turi.com/products/graphlab-create/2.1/canvas/js/ipython_app.js'], function(IPythonApp){\n",
       "                    var app = new IPythonApp();\n",
       "                    app.attachView('sframe','Summary', {\"ipython\": true, \"sketch\": {\"src\": {\"complete\": true, \"numeric\": false, \"num_unique\": 9, \"num_undefined\": 0, \"progress\": 1.0, \"frequent_items\": {\"Heather\": {\"frequency\": 1, \"value\": \"Heather\"}, \"Ed\": {\"frequency\": 1, \"value\": \"Ed\"}, \"Diane\": {\"frequency\": 3, \"value\": \"Diane\"}, \"Fernando\": {\"frequency\": 2, \"value\": \"Fernando\"}, \"Andre\": {\"frequency\": 4, \"value\": \"Andre\"}, \"Ike\": {\"frequency\": 1, \"value\": \"Ike\"}, \"Garth\": {\"frequency\": 1, \"value\": \"Garth\"}, \"Beverly\": {\"frequency\": 3, \"value\": \"Beverly\"}, \"Carol\": {\"frequency\": 2, \"value\": \"Carol\"}}, \"size\": 18}, \"dst\": {\"complete\": true, \"numeric\": false, \"num_unique\": 9, \"num_undefined\": 0, \"progress\": 1.0, \"frequent_items\": {\"Heather\": {\"frequency\": 2, \"value\": \"Heather\"}, \"Ed\": {\"frequency\": 2, \"value\": \"Ed\"}, \"Diane\": {\"frequency\": 3, \"value\": \"Diane\"}, \"Fernando\": {\"frequency\": 3, \"value\": \"Fernando\"}, \"Jane\": {\"frequency\": 1, \"value\": \"Jane\"}, \"Ike\": {\"frequency\": 1, \"value\": \"Ike\"}, \"Garth\": {\"frequency\": 4, \"value\": \"Garth\"}, \"Beverly\": {\"frequency\": 1, \"value\": \"Beverly\"}, \"Carol\": {\"frequency\": 1, \"value\": \"Carol\"}}, \"size\": 18}}, \"selected_variable\": {\"name\": [\"edges\"], \"descriptives\": {\"rows\": 18, \"columns\": 2}, \"view_component\": \"Summary\", \"view_file\": \"sframe\", \"view_params\": {\"y\": null, \"x\": null, \"columns\": [\"src\", \"dst\"], \"view\": null}, \"view_components\": [\"Summary\", \"Table\", \"Bar Chart\", \"BoxWhisker Plot\", \"Line Chart\", \"Scatter Plot\", \"Heat Map\", \"Plots\"], \"type\": \"SFrame\", \"columns\": [{\"dtype\": \"str\", \"name\": \"src\"}, {\"dtype\": \"str\", \"name\": \"dst\"}], \"column_identifiers\": [\"src\", \"dst\"]}, \"columns\": [{\"dtype\": \"str\", \"name\": \"src\"}, {\"dtype\": \"str\", \"name\": \"dst\"}]}, e);\n",
       "                });\n",
       "            })();\n",
       "        "
      ]
     },
     "metadata": {},
     "output_type": "display_data"
    }
   ],
   "source": [
    "edges.show()"
   ]
  },
  {
   "cell_type": "code",
   "execution_count": 6,
   "metadata": {
    "collapsed": false
   },
   "outputs": [],
   "source": [
    "g = gl.SGraph()\n",
    "g = g.add_vertices(vertices, vid_field='X1')\n",
    "g = g.add_edges(edges=edges, \n",
    "                src_field='src', \n",
    "                dst_field='dst')"
   ]
  },
  {
   "cell_type": "code",
   "execution_count": 7,
   "metadata": {
    "collapsed": false
   },
   "outputs": [
    {
     "data": {
      "application/javascript": [
       "$(\"head\").append($(\"<link/>\").attr({\n",
       "  rel:  \"stylesheet\",\n",
       "  type: \"text/css\",\n",
       "  href: \"//cdnjs.cloudflare.com/ajax/libs/font-awesome/4.1.0/css/font-awesome.min.css\"\n",
       "}));\n",
       "$(\"head\").append($(\"<link/>\").attr({\n",
       "  rel:  \"stylesheet\",\n",
       "  type: \"text/css\",\n",
       "  href: \"https://static.turi.com/products/graphlab-create/2.1/canvas/css/canvas.css\"\n",
       "}));\n",
       "\n",
       "            (function(){\n",
       "\n",
       "                var e = null;\n",
       "                if (typeof element == 'undefined') {\n",
       "                    var scripts = document.getElementsByTagName('script');\n",
       "                    var thisScriptTag = scripts[scripts.length-1];\n",
       "                    var parentDiv = thisScriptTag.parentNode;\n",
       "                    e = document.createElement('div');\n",
       "                    parentDiv.appendChild(e);\n",
       "                } else {\n",
       "                    e = element[0];\n",
       "                }\n",
       "\n",
       "                if (typeof requirejs !== 'undefined') {\n",
       "                    // disable load timeout; ipython_app.js is large and can take a while to load.\n",
       "                    requirejs.config({waitSeconds: 0});\n",
       "                }\n",
       "\n",
       "                require(['https://static.turi.com/products/graphlab-create/2.1/canvas/js/ipython_app.js'], function(IPythonApp){\n",
       "                    var app = new IPythonApp();\n",
       "                    app.attachView('sgraph','View', {\"edges_labels\": null, \"selected_variable\": {\"name\": [\"g\"], \"view_file\": \"sgraph\", \"view_component\": \"View\", \"view_params\": {\"elabel_hover\": false, \"vertex_positions\": null, \"h_offset\": 0.0, \"node_size\": 300, \"ecolor\": [0.37, 0.33, 0.33], \"elabel\": null, \"arrows\": false, \"ewidth\": 1, \"vlabel\": \"id\", \"highlight_color\": [0.69, 0.0, 0.498], \"vcolor\": [0.522, 0.741, 0.0], \"vlabel_hover\": false, \"highlight\": {}, \"v_offset\": 0.03}, \"view_components\": [\"View\"], \"type\": \"SGraph\", \"descriptives_links\": {\"edges\": \"edges\", \"vertices\": \"vertices\"}, \"descriptives\": {\"edges\": 18, \"vertices\": 10}}, \"positions\": null, \"error_type\": 0, \"vertices\": [\"Fernando\", \"Beverly\", \"Ed\", \"Jane\", \"Diane\", \"Garth\", \"Andre\", \"Carol\", \"Ike\", \"Heather\"], \"vertices_labels\": [\"Fernando\", \"Beverly\", \"Ed\", \"Jane\", \"Diane\", \"Garth\", \"Andre\", \"Carol\", \"Ike\", \"Heather\"], \"edges\": [[\"Beverly\", \"Diane\"], [\"Beverly\", \"Ed\"], [\"Beverly\", \"Garth\"], [\"Fernando\", \"Garth\"], [\"Fernando\", \"Heather\"], [\"Diane\", \"Fernando\"], [\"Diane\", \"Ed\"], [\"Diane\", \"Garth\"], [\"Ed\", \"Garth\"], [\"Garth\", \"Heather\"], [\"Andre\", \"Beverly\"], [\"Andre\", \"Fernando\"], [\"Andre\", \"Diane\"], [\"Andre\", \"Carol\"], [\"Carol\", \"Fernando\"], [\"Carol\", \"Diane\"], [\"Ike\", \"Jane\"], [\"Heather\", \"Ike\"]], \"ipython\": true, \"error_msg\": \"\"}, e);\n",
       "                });\n",
       "            })();\n",
       "        "
      ]
     },
     "metadata": {},
     "output_type": "display_data"
    }
   ],
   "source": [
    "g.show(vlabel='id')"
   ]
  },
  {
   "cell_type": "markdown",
   "metadata": {},
   "source": [
    "# Season 5 of the Simpsons  \n",
    "\n",
    "*by far the best season*  \n",
    "\n",
    "[All data is from Chris Pudney](https://github.com/cpudney/simpsons-seasons-networks)\n",
    "\n",
    "'Each vertex represents a character, edges connect the vertices of pairs of characters who appear together in an episode. Each edge carries a weight whose value is the number of episodes in the season in which the connected characters co-appear. The size of a vertex encodes the number of episodes in which a character appears in a given season.'\n",
    "\n",
    "I'm new to a lot of this so I wanted to take a look at a data set that had already been created.  I love the Simpsons and thought this would be cool.  Reading Chris's github page gave me a good idea of how I should create my own data sets moving forward."
   ]
  },
  {
   "cell_type": "code",
   "execution_count": 8,
   "metadata": {
    "collapsed": false
   },
   "outputs": [
    {
     "data": {
      "text/html": [
       "<pre>Downloading https://raw.githubusercontent.com/cpudney/simpsons-seasons-networks/master/season05/nodes.csv to /var/tmp/graphlab-ncapofari/5170/6d53e53b-3ac1-462f-ad9a-8a91efea8d28.csv</pre>"
      ],
      "text/plain": [
       "Downloading https://raw.githubusercontent.com/cpudney/simpsons-seasons-networks/master/season05/nodes.csv to /var/tmp/graphlab-ncapofari/5170/6d53e53b-3ac1-462f-ad9a-8a91efea8d28.csv"
      ]
     },
     "metadata": {},
     "output_type": "display_data"
    },
    {
     "data": {
      "text/html": [
       "<pre>Finished parsing file https://raw.githubusercontent.com/cpudney/simpsons-seasons-networks/master/season05/nodes.csv</pre>"
      ],
      "text/plain": [
       "Finished parsing file https://raw.githubusercontent.com/cpudney/simpsons-seasons-networks/master/season05/nodes.csv"
      ]
     },
     "metadata": {},
     "output_type": "display_data"
    },
    {
     "data": {
      "text/html": [
       "<pre>Parsing completed. Parsed 100 lines in 0.024169 secs.</pre>"
      ],
      "text/plain": [
       "Parsing completed. Parsed 100 lines in 0.024169 secs."
      ]
     },
     "metadata": {},
     "output_type": "display_data"
    },
    {
     "name": "stdout",
     "output_type": "stream",
     "text": [
      "------------------------------------------------------\n",
      "Inferred types from first 100 line(s) of file as \n",
      "column_type_hints=[int,str,int]\n",
      "If parsing fails due to incorrect types, you can correct\n",
      "the inferred type list above and pass it to read_csv in\n",
      "the column_type_hints argument\n",
      "------------------------------------------------------\n"
     ]
    },
    {
     "data": {
      "text/html": [
       "<pre>Finished parsing file https://raw.githubusercontent.com/cpudney/simpsons-seasons-networks/master/season05/nodes.csv</pre>"
      ],
      "text/plain": [
       "Finished parsing file https://raw.githubusercontent.com/cpudney/simpsons-seasons-networks/master/season05/nodes.csv"
      ]
     },
     "metadata": {},
     "output_type": "display_data"
    },
    {
     "data": {
      "text/html": [
       "<pre>Parsing completed. Parsed 283 lines in 0.017974 secs.</pre>"
      ],
      "text/plain": [
       "Parsing completed. Parsed 283 lines in 0.017974 secs."
      ]
     },
     "metadata": {},
     "output_type": "display_data"
    },
    {
     "data": {
      "text/html": [
       "<pre>Downloading https://raw.githubusercontent.com/cpudney/simpsons-seasons-networks/master/season05/edges.csv to /var/tmp/graphlab-ncapofari/5170/da0869e9-49b1-49f2-b12e-e8c01dcd044d.csv</pre>"
      ],
      "text/plain": [
       "Downloading https://raw.githubusercontent.com/cpudney/simpsons-seasons-networks/master/season05/edges.csv to /var/tmp/graphlab-ncapofari/5170/da0869e9-49b1-49f2-b12e-e8c01dcd044d.csv"
      ]
     },
     "metadata": {},
     "output_type": "display_data"
    },
    {
     "data": {
      "text/html": [
       "<pre>Finished parsing file https://raw.githubusercontent.com/cpudney/simpsons-seasons-networks/master/season05/edges.csv</pre>"
      ],
      "text/plain": [
       "Finished parsing file https://raw.githubusercontent.com/cpudney/simpsons-seasons-networks/master/season05/edges.csv"
      ]
     },
     "metadata": {},
     "output_type": "display_data"
    },
    {
     "data": {
      "text/html": [
       "<pre>Parsing completed. Parsed 100 lines in 0.017101 secs.</pre>"
      ],
      "text/plain": [
       "Parsing completed. Parsed 100 lines in 0.017101 secs."
      ]
     },
     "metadata": {},
     "output_type": "display_data"
    },
    {
     "name": "stdout",
     "output_type": "stream",
     "text": [
      "------------------------------------------------------\n",
      "Inferred types from first 100 line(s) of file as \n",
      "column_type_hints=[int,int,int,str]\n",
      "If parsing fails due to incorrect types, you can correct\n",
      "the inferred type list above and pass it to read_csv in\n",
      "the column_type_hints argument\n",
      "------------------------------------------------------\n"
     ]
    },
    {
     "data": {
      "text/html": [
       "<pre>Finished parsing file https://raw.githubusercontent.com/cpudney/simpsons-seasons-networks/master/season05/edges.csv</pre>"
      ],
      "text/plain": [
       "Finished parsing file https://raw.githubusercontent.com/cpudney/simpsons-seasons-networks/master/season05/edges.csv"
      ]
     },
     "metadata": {},
     "output_type": "display_data"
    },
    {
     "data": {
      "text/html": [
       "<pre>Parsing completed. Parsed 9752 lines in 0.023914 secs.</pre>"
      ],
      "text/plain": [
       "Parsing completed. Parsed 9752 lines in 0.023914 secs."
      ]
     },
     "metadata": {},
     "output_type": "display_data"
    }
   ],
   "source": [
    "base_url = 'https://raw.githubusercontent.com/cpudney/simpsons-seasons-networks/master/season05/'\n",
    "vertices = gl.SFrame.read_csv(base_url + 'nodes.csv', delimiter='\\t')\n",
    "edges = gl.SFrame.read_csv(base_url + 'edges.csv', delimiter='\\t')\n",
    "#remove some vertices and edges so we can see plot later on\n",
    "vertices = vertices[vertices['Size'] > 10]\n",
    "edges = edges[edges['Weight'] > 8] "
   ]
  },
  {
   "cell_type": "code",
   "execution_count": 9,
   "metadata": {
    "collapsed": false
   },
   "outputs": [],
   "source": [
    "g = gl.SGraph()\n",
    "g = g.add_vertices(vertices, vid_field='Id')\n",
    "g = g.add_edges(edges=edges, \n",
    "                src_field='Source', \n",
    "                dst_field='Target')"
   ]
  },
  {
   "cell_type": "code",
   "execution_count": 10,
   "metadata": {
    "collapsed": false
   },
   "outputs": [
    {
     "data": {
      "application/javascript": [
       "$(\"head\").append($(\"<link/>\").attr({\n",
       "  rel:  \"stylesheet\",\n",
       "  type: \"text/css\",\n",
       "  href: \"//cdnjs.cloudflare.com/ajax/libs/font-awesome/4.1.0/css/font-awesome.min.css\"\n",
       "}));\n",
       "$(\"head\").append($(\"<link/>\").attr({\n",
       "  rel:  \"stylesheet\",\n",
       "  type: \"text/css\",\n",
       "  href: \"https://static.turi.com/products/graphlab-create/2.1/canvas/css/canvas.css\"\n",
       "}));\n",
       "\n",
       "            (function(){\n",
       "\n",
       "                var e = null;\n",
       "                if (typeof element == 'undefined') {\n",
       "                    var scripts = document.getElementsByTagName('script');\n",
       "                    var thisScriptTag = scripts[scripts.length-1];\n",
       "                    var parentDiv = thisScriptTag.parentNode;\n",
       "                    e = document.createElement('div');\n",
       "                    parentDiv.appendChild(e);\n",
       "                } else {\n",
       "                    e = element[0];\n",
       "                }\n",
       "\n",
       "                if (typeof requirejs !== 'undefined') {\n",
       "                    // disable load timeout; ipython_app.js is large and can take a while to load.\n",
       "                    requirejs.config({waitSeconds: 0});\n",
       "                }\n",
       "\n",
       "                require(['https://static.turi.com/products/graphlab-create/2.1/canvas/js/ipython_app.js'], function(IPythonApp){\n",
       "                    var app = new IPythonApp();\n",
       "                    app.attachView('sgraph','View', {\"edges_labels\": null, \"selected_variable\": {\"name\": [\"g\"], \"view_file\": \"sgraph\", \"view_component\": \"View\", \"view_params\": {\"elabel_hover\": false, \"vertex_positions\": null, \"h_offset\": 0.0, \"node_size\": 300, \"ecolor\": [0.37, 0.33, 0.33], \"elabel\": null, \"arrows\": false, \"ewidth\": \"Weight\", \"vlabel\": \"Label\", \"highlight_color\": [0.69, 0.0, 0.498], \"vcolor\": [0.522, 0.741, 0.0], \"vlabel_hover\": false, \"highlight\": {}, \"v_offset\": 0.03}, \"view_components\": [\"View\"], \"type\": \"SGraph\", \"descriptives_links\": {\"edges\": \"edges\", \"vertices\": \"vertices\"}, \"descriptives\": {\"edges\": 166, \"vertices\": 28}}, \"positions\": null, \"error_type\": 0, \"vertices\": [47, 33, 7, 5, 27, 70, 65, 30, 49, 43, 38, 83, 37, 103, 71, 116, 9, 6, 111, 14, 45, 82, 19, 20, 42, 44, 24, 11], \"vertices_labels\": [\"Apu Nahasapeemapetilon\", \"Nelson Muntz\", \"Abraham Simpson\", \"Marge Simpson\", null, null, \"Patty Bouvier\", \"Moe Szyslak\", null, \"Ned Flanders\", \"Seymour Skinner\", \"Waylon Smithers, Jr.\", \"Lisa Simpson\", null, \"Selma Bouvier\", \"Kent Brockman\", \"Barney Gumble\", \"Milhouse Van Houten\", null, \"Lenny Leonard\", null, \"Charles Montgomery Burns\", \"Homer Simpson\", null, null, \"Maggie Simpson\", \"Bart Simpson\", null], \"edges\": [[7, 33], [5, 7], [5, 27], [5, 70], [5, 47], [5, 33], [5, 30], [7, 30], [5, 65], [5, 38], [5, 43], [7, 83], [7, 43], [7, 38], [5, 37], [27, 37], [33, 37], [5, 103], [5, 83], [7, 37], [33, 43], [5, 6], [5, 9], [5, 71], [7, 9], [5, 116], [7, 116], [5, 111], [7, 14], [5, 45], [5, 14], [5, 82], [7, 19], [5, 20], [5, 19], [7, 82], [5, 42], [5, 11], [7, 24], [5, 44], [7, 44], [5, 24], [33, 44], [27, 44], [30, 65], [30, 43], [30, 37], [65, 71], [30, 71], [30, 44], [43, 70], [37, 70], [37, 47], [43, 47], [37, 65], [37, 49], [37, 43], [37, 38], [37, 83], [38, 43], [37, 103], [43, 116], [37, 71], [38, 116], [37, 116], [43, 111], [37, 111], [37, 45], [43, 45], [37, 82], [37, 42], [43, 44], [38, 44], [37, 44], [9, 47], [6, 7], [9, 65], [6, 30], [9, 30], [6, 43], [9, 37], [9, 43], [9, 38], [6, 37], [6, 38], [9, 71], [6, 9], [9, 116], [9, 42], [9, 82], [6, 19], [9, 19], [6, 44], [9, 24], [9, 44], [6, 24], [14, 30], [14, 43], [14, 37], [14, 45], [14, 19], [14, 44], [14, 24], [19, 27], [19, 33], [19, 70], [19, 47], [19, 65], [19, 30], [19, 49], [19, 83], [19, 103], [19, 37], [42, 43], [20, 37], [19, 38], [19, 43], [82, 83], [19, 116], [82, 116], [19, 71], [19, 111], [19, 45], [19, 20], [19, 42], [19, 82], [19, 24], [20, 24], [20, 44], [42, 44], [19, 44], [24, 70], [44, 47], [24, 27], [44, 70], [24, 33], [24, 47], [24, 49], [44, 65], [24, 30], [24, 65], [44, 49], [44, 83], [24, 37], [24, 103], [24, 38], [11, 37], [24, 83], [24, 43], [11, 43], [44, 103], [24, 71], [44, 111], [44, 71], [24, 116], [24, 111], [44, 116], [24, 45], [44, 45], [11, 19], [44, 82], [24, 42], [24, 82], [11, 24], [24, 44], [11, 44]], \"ipython\": true, \"error_msg\": \"\"}, e);\n",
       "                });\n",
       "            })();\n",
       "        "
      ]
     },
     "metadata": {},
     "output_type": "display_data"
    }
   ],
   "source": [
    "g.show(vlabel='Label', ewidth='Weight')"
   ]
  }
 ],
 "metadata": {
  "kernelspec": {
   "display_name": "Python 2",
   "language": "python",
   "name": "python2"
  },
  "language_info": {
   "codemirror_mode": {
    "name": "ipython",
    "version": 2
   },
   "file_extension": ".py",
   "mimetype": "text/x-python",
   "name": "python",
   "nbconvert_exporter": "python",
   "pygments_lexer": "ipython2",
   "version": "2.7.11"
  }
 },
 "nbformat": 4,
 "nbformat_minor": 0
}
