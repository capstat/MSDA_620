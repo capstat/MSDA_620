{
 "cells": [
  {
   "cell_type": "code",
   "execution_count": 1,
   "metadata": {
    "collapsed": true
   },
   "outputs": [],
   "source": [
    "import graphlab as gl\n",
    "gl.canvas.set_target('ipynb')"
   ]
  },
  {
   "cell_type": "code",
   "execution_count": 2,
   "metadata": {
    "collapsed": false
   },
   "outputs": [
    {
     "name": "stderr",
     "output_type": "stream",
     "text": [
      "[INFO] graphlab.cython.cy_server: GraphLab Create v2.1 started. Logging: /tmp/graphlab_server_1497756845.log\n"
     ]
    },
    {
     "name": "stdout",
     "output_type": "stream",
     "text": [
      "This non-commercial license of GraphLab Create for academic use is assigned to nicholas.capofari@spsmail.cuny.edu and will expire on June 06, 2018.\n"
     ]
    }
   ],
   "source": [
    "#adapted from jschaub30 github\n",
    "#https://gist.github.com/jschaub30/54054f81508003d01d5d\n",
    "\n",
    "import sys\n",
    "import re\n",
    "\n",
    "mygml = 'data/power.gml'\n",
    "\n",
    "with open(mygml, 'r') as f:\n",
    "        blob = f.read()\n",
    "blob = ''.join(blob.split('node')[1:])\n",
    "nodes = blob.split('edge')[0]\n",
    "edges = ''.join(blob.split('edge')[1:]).strip().rstrip(']')\n",
    "\n",
    "pattern = re.compile(r'(\\d+)') \n",
    "node_list = re.findall(pattern, nodes)\n",
    "nodes = gl.SFrame({'id': [int(i) for i in node_list] })\n",
    "\n",
    "pattern = re.compile(r'(\\d+)') \n",
    "edge_list = re.findall(pattern, edges)\n",
    "edges = gl.SFrame({'src': [int(i) for i in edge_list[::2]], \n",
    "                   'dst': [int(i) for i in edge_list[1::2]]})"
   ]
  },
  {
   "cell_type": "code",
   "execution_count": 3,
   "metadata": {
    "collapsed": false
   },
   "outputs": [],
   "source": [
    "g = gl.SGraph()\n",
    "\n",
    "g = g.add_vertices(nodes, vid_field='id')\n",
    "g = g.add_edges(edges=edges, \n",
    "                src_field='src', \n",
    "                dst_field='dst')"
   ]
  },
  {
   "cell_type": "code",
   "execution_count": 4,
   "metadata": {
    "collapsed": false
   },
   "outputs": [
    {
     "data": {
      "application/javascript": [
       "$(\"head\").append($(\"<link/>\").attr({\n",
       "  rel:  \"stylesheet\",\n",
       "  type: \"text/css\",\n",
       "  href: \"//cdnjs.cloudflare.com/ajax/libs/font-awesome/4.1.0/css/font-awesome.min.css\"\n",
       "}));\n",
       "$(\"head\").append($(\"<link/>\").attr({\n",
       "  rel:  \"stylesheet\",\n",
       "  type: \"text/css\",\n",
       "  href: \"https://static.turi.com/products/graphlab-create/2.1/canvas/css/canvas.css\"\n",
       "}));\n",
       "\n",
       "            (function(){\n",
       "\n",
       "                var e = null;\n",
       "                if (typeof element == 'undefined') {\n",
       "                    var scripts = document.getElementsByTagName('script');\n",
       "                    var thisScriptTag = scripts[scripts.length-1];\n",
       "                    var parentDiv = thisScriptTag.parentNode;\n",
       "                    e = document.createElement('div');\n",
       "                    parentDiv.appendChild(e);\n",
       "                } else {\n",
       "                    e = element[0];\n",
       "                }\n",
       "\n",
       "                if (typeof requirejs !== 'undefined') {\n",
       "                    // disable load timeout; ipython_app.js is large and can take a while to load.\n",
       "                    requirejs.config({waitSeconds: 0});\n",
       "                }\n",
       "\n",
       "                require(['https://static.turi.com/products/graphlab-create/2.1/canvas/js/ipython_app.js'], function(IPythonApp){\n",
       "                    var app = new IPythonApp();\n",
       "                    app.attachView('sgraph','View', {\"edges_labels\": null, \"selected_variable\": {\"name\": [\"subgraph\"], \"view_file\": \"sgraph\", \"view_component\": \"View\", \"view_params\": {\"elabel_hover\": false, \"vertex_positions\": null, \"h_offset\": 0.0, \"node_size\": 300, \"ecolor\": [0.37, 0.33, 0.33], \"elabel\": null, \"arrows\": false, \"ewidth\": 1, \"vlabel\": \"id\", \"highlight_color\": [0.69, 0.0, 0.498], \"vcolor\": [0.522, 0.741, 0.0], \"vlabel_hover\": false, \"highlight\": {}, \"v_offset\": 0.03}, \"view_components\": [\"View\"], \"type\": \"SGraph\", \"descriptives_links\": {\"edges\": \"edges\", \"vertices\": \"vertices\"}, \"descriptives\": {\"edges\": 30, \"vertices\": 20}}, \"positions\": null, \"error_type\": 0, \"vertices\": [2971, 2845, 2801, 2908, 3284, 2553, 2874, 3096, 2922, 3128, 2872, 2995, 3149, 2843, 2870, 2809, 3141, 2721, 2999, 2871], \"vertices_labels\": [2971, 2845, 2801, 2908, 3284, 2553, 2874, 3096, 2922, 3128, 2872, 2995, 3149, 2843, 2870, 2809, 3141, 2721, 2999, 2871], \"edges\": [[2971, 2845], [2845, 2553], [2908, 2553], [2801, 2553], [2971, 2553], [2908, 2843], [3096, 2908], [3284, 2801], [3284, 2553], [3096, 2553], [2874, 2553], [3284, 3128], [3096, 2843], [3284, 3141], [2922, 2801], [2922, 2553], [3128, 2553], [2995, 2801], [3149, 2553], [2872, 2553], [2995, 2553], [3149, 3128], [2843, 2553], [2870, 2553], [2843, 2809], [3141, 2553], [2809, 2553], [2721, 2553], [2871, 2553], [2999, 2553]], \"ipython\": true, \"error_msg\": \"\"}, e);\n",
       "                });\n",
       "            })();\n",
       "        "
      ]
     },
     "metadata": {},
     "output_type": "display_data"
    }
   ],
   "source": [
    "#take a look at total degree \n",
    "m = gl.degree_counting.create(g)\n",
    "v = m['graph'].vertices\n",
    "subgraph = g.get_neighborhood(v[v['total_degree'].argmax()]['__id'])\n",
    "subgraph.show(vlabel='id')"
   ]
  },
  {
   "cell_type": "code",
   "execution_count": 5,
   "metadata": {
    "collapsed": false
   },
   "outputs": [
    {
     "data": {
      "text/html": [
       "<div style=\"max-height:1000px;max-width:1500px;overflow:auto;\"><table frame=\"box\" rules=\"cols\">\n",
       "    <tr>\n",
       "        <th style=\"padding-left: 1em; padding-right: 1em; text-align: center\">__id</th>\n",
       "        <th style=\"padding-left: 1em; padding-right: 1em; text-align: center\">in_degree</th>\n",
       "        <th style=\"padding-left: 1em; padding-right: 1em; text-align: center\">out_degree</th>\n",
       "        <th style=\"padding-left: 1em; padding-right: 1em; text-align: center\">total_degree</th>\n",
       "        <th style=\"padding-left: 1em; padding-right: 1em; text-align: center\">d_centrality</th>\n",
       "    </tr>\n",
       "    <tr>\n",
       "        <td style=\"padding-left: 1em; padding-right: 1em; text-align: center; vertical-align: top\">2553</td>\n",
       "        <td style=\"padding-left: 1em; padding-right: 1em; text-align: center; vertical-align: top\">19</td>\n",
       "        <td style=\"padding-left: 1em; padding-right: 1em; text-align: center; vertical-align: top\">0</td>\n",
       "        <td style=\"padding-left: 1em; padding-right: 1em; text-align: center; vertical-align: top\">19</td>\n",
       "        <td style=\"padding-left: 1em; padding-right: 1em; text-align: center; vertical-align: top\">0.00384615384615</td>\n",
       "    </tr>\n",
       "    <tr>\n",
       "        <td style=\"padding-left: 1em; padding-right: 1em; text-align: center; vertical-align: top\">4458</td>\n",
       "        <td style=\"padding-left: 1em; padding-right: 1em; text-align: center; vertical-align: top\">5</td>\n",
       "        <td style=\"padding-left: 1em; padding-right: 1em; text-align: center; vertical-align: top\">13</td>\n",
       "        <td style=\"padding-left: 1em; padding-right: 1em; text-align: center; vertical-align: top\">18</td>\n",
       "        <td style=\"padding-left: 1em; padding-right: 1em; text-align: center; vertical-align: top\">0.00364372469636</td>\n",
       "    </tr>\n",
       "    <tr>\n",
       "        <td style=\"padding-left: 1em; padding-right: 1em; text-align: center; vertical-align: top\">3468</td>\n",
       "        <td style=\"padding-left: 1em; padding-right: 1em; text-align: center; vertical-align: top\">8</td>\n",
       "        <td style=\"padding-left: 1em; padding-right: 1em; text-align: center; vertical-align: top\">6</td>\n",
       "        <td style=\"padding-left: 1em; padding-right: 1em; text-align: center; vertical-align: top\">14</td>\n",
       "        <td style=\"padding-left: 1em; padding-right: 1em; text-align: center; vertical-align: top\">0.00283400809717</td>\n",
       "    </tr>\n",
       "    <tr>\n",
       "        <td style=\"padding-left: 1em; padding-right: 1em; text-align: center; vertical-align: top\">831</td>\n",
       "        <td style=\"padding-left: 1em; padding-right: 1em; text-align: center; vertical-align: top\">14</td>\n",
       "        <td style=\"padding-left: 1em; padding-right: 1em; text-align: center; vertical-align: top\">0</td>\n",
       "        <td style=\"padding-left: 1em; padding-right: 1em; text-align: center; vertical-align: top\">14</td>\n",
       "        <td style=\"padding-left: 1em; padding-right: 1em; text-align: center; vertical-align: top\">0.00283400809717</td>\n",
       "    </tr>\n",
       "    <tr>\n",
       "        <td style=\"padding-left: 1em; padding-right: 1em; text-align: center; vertical-align: top\">4345</td>\n",
       "        <td style=\"padding-left: 1em; padding-right: 1em; text-align: center; vertical-align: top\">11</td>\n",
       "        <td style=\"padding-left: 1em; padding-right: 1em; text-align: center; vertical-align: top\">3</td>\n",
       "        <td style=\"padding-left: 1em; padding-right: 1em; text-align: center; vertical-align: top\">14</td>\n",
       "        <td style=\"padding-left: 1em; padding-right: 1em; text-align: center; vertical-align: top\">0.00283400809717</td>\n",
       "    </tr>\n",
       "    <tr>\n",
       "        <td style=\"padding-left: 1em; padding-right: 1em; text-align: center; vertical-align: top\">2542</td>\n",
       "        <td style=\"padding-left: 1em; padding-right: 1em; text-align: center; vertical-align: top\">11</td>\n",
       "        <td style=\"padding-left: 1em; padding-right: 1em; text-align: center; vertical-align: top\">2</td>\n",
       "        <td style=\"padding-left: 1em; padding-right: 1em; text-align: center; vertical-align: top\">13</td>\n",
       "        <td style=\"padding-left: 1em; padding-right: 1em; text-align: center; vertical-align: top\">0.00263157894737</td>\n",
       "    </tr>\n",
       "    <tr>\n",
       "        <td style=\"padding-left: 1em; padding-right: 1em; text-align: center; vertical-align: top\">2575</td>\n",
       "        <td style=\"padding-left: 1em; padding-right: 1em; text-align: center; vertical-align: top\">11</td>\n",
       "        <td style=\"padding-left: 1em; padding-right: 1em; text-align: center; vertical-align: top\">2</td>\n",
       "        <td style=\"padding-left: 1em; padding-right: 1em; text-align: center; vertical-align: top\">13</td>\n",
       "        <td style=\"padding-left: 1em; padding-right: 1em; text-align: center; vertical-align: top\">0.00263157894737</td>\n",
       "    </tr>\n",
       "    <tr>\n",
       "        <td style=\"padding-left: 1em; padding-right: 1em; text-align: center; vertical-align: top\">2382</td>\n",
       "        <td style=\"padding-left: 1em; padding-right: 1em; text-align: center; vertical-align: top\">6</td>\n",
       "        <td style=\"padding-left: 1em; padding-right: 1em; text-align: center; vertical-align: top\">7</td>\n",
       "        <td style=\"padding-left: 1em; padding-right: 1em; text-align: center; vertical-align: top\">13</td>\n",
       "        <td style=\"padding-left: 1em; padding-right: 1em; text-align: center; vertical-align: top\">0.00263157894737</td>\n",
       "    </tr>\n",
       "    <tr>\n",
       "        <td style=\"padding-left: 1em; padding-right: 1em; text-align: center; vertical-align: top\">3895</td>\n",
       "        <td style=\"padding-left: 1em; padding-right: 1em; text-align: center; vertical-align: top\">4</td>\n",
       "        <td style=\"padding-left: 1em; padding-right: 1em; text-align: center; vertical-align: top\">9</td>\n",
       "        <td style=\"padding-left: 1em; padding-right: 1em; text-align: center; vertical-align: top\">13</td>\n",
       "        <td style=\"padding-left: 1em; padding-right: 1em; text-align: center; vertical-align: top\">0.00263157894737</td>\n",
       "    </tr>\n",
       "    <tr>\n",
       "        <td style=\"padding-left: 1em; padding-right: 1em; text-align: center; vertical-align: top\">2585</td>\n",
       "        <td style=\"padding-left: 1em; padding-right: 1em; text-align: center; vertical-align: top\">13</td>\n",
       "        <td style=\"padding-left: 1em; padding-right: 1em; text-align: center; vertical-align: top\">0</td>\n",
       "        <td style=\"padding-left: 1em; padding-right: 1em; text-align: center; vertical-align: top\">13</td>\n",
       "        <td style=\"padding-left: 1em; padding-right: 1em; text-align: center; vertical-align: top\">0.00263157894737</td>\n",
       "    </tr>\n",
       "</table>\n",
       "[10 rows x 5 columns]<br/>\n",
       "</div>"
      ],
      "text/plain": [
       "Columns:\n",
       "\t__id\tint\n",
       "\tin_degree\tint\n",
       "\tout_degree\tint\n",
       "\ttotal_degree\tint\n",
       "\td_centrality\tfloat\n",
       "\n",
       "Rows: 10\n",
       "\n",
       "Data:\n",
       "+------+-----------+------------+--------------+------------------+\n",
       "| __id | in_degree | out_degree | total_degree |   d_centrality   |\n",
       "+------+-----------+------------+--------------+------------------+\n",
       "| 2553 |     19    |     0      |      19      | 0.00384615384615 |\n",
       "| 4458 |     5     |     13     |      18      | 0.00364372469636 |\n",
       "| 3468 |     8     |     6      |      14      | 0.00283400809717 |\n",
       "| 831  |     14    |     0      |      14      | 0.00283400809717 |\n",
       "| 4345 |     11    |     3      |      14      | 0.00283400809717 |\n",
       "| 2542 |     11    |     2      |      13      | 0.00263157894737 |\n",
       "| 2575 |     11    |     2      |      13      | 0.00263157894737 |\n",
       "| 2382 |     6     |     7      |      13      | 0.00263157894737 |\n",
       "| 3895 |     4     |     9      |      13      | 0.00263157894737 |\n",
       "| 2585 |     13    |     0      |      13      | 0.00263157894737 |\n",
       "+------+-----------+------------+--------------+------------------+\n",
       "[10 rows x 5 columns]"
      ]
     },
     "execution_count": 5,
     "metadata": {},
     "output_type": "execute_result"
    }
   ],
   "source": [
    "#calculate degree centrality\n",
    "from __future__ import division\n",
    "\n",
    "v['d_centrality'] = v['total_degree'].apply(lambda x: (x/(len(v['__id'])-1)))\n",
    "v = v.sort('d_centrality', ascending=False)\n",
    "v.head()"
   ]
  },
  {
   "cell_type": "code",
   "execution_count": 6,
   "metadata": {
    "collapsed": false
   },
   "outputs": [
    {
     "data": {
      "text/plain": [
       "44.0"
      ]
     },
     "execution_count": 6,
     "metadata": {},
     "output_type": "execute_result"
    }
   ],
   "source": [
    "#to find undirected shortest paths add edges to the SGraph in both directions\n",
    "g = g.add_edges(edges=g.edges, \n",
    "                src_field='__dst_id', \n",
    "                dst_field='__src_id')\n",
    "\n",
    "#takes too long to find diameter if we use every node\n",
    "#take top 50 nodes in terms of degree centrality\n",
    "longest_sp = []\n",
    "#calculate sum of sps to calculate closeness centrality\n",
    "cc = []\n",
    "\n",
    "#shortest path for each\n",
    "for each in v['__id'][:50]:\n",
    "    sp = gl.shortest_path.create(g, each, verbose=False)\n",
    "    temp = sp['distance']['distance']\n",
    "    longest_sp.extend([temp.max()])\n",
    "    cc.extend([(len(v['__id'])-1)/sum(temp)])\n",
    "\n",
    "diameter = max(longest_sp)\n",
    "diameter"
   ]
  },
  {
   "cell_type": "code",
   "execution_count": 7,
   "metadata": {
    "collapsed": false
   },
   "outputs": [
    {
     "data": {
      "text/html": [
       "<div style=\"max-height:1000px;max-width:1500px;overflow:auto;\"><table frame=\"box\" rules=\"cols\">\n",
       "    <tr>\n",
       "        <th style=\"padding-left: 1em; padding-right: 1em; text-align: center\">__id</th>\n",
       "        <th style=\"padding-left: 1em; padding-right: 1em; text-align: center\">in_degree</th>\n",
       "        <th style=\"padding-left: 1em; padding-right: 1em; text-align: center\">out_degree</th>\n",
       "        <th style=\"padding-left: 1em; padding-right: 1em; text-align: center\">total_degree</th>\n",
       "        <th style=\"padding-left: 1em; padding-right: 1em; text-align: center\">d_centrality</th>\n",
       "        <th style=\"padding-left: 1em; padding-right: 1em; text-align: center\">c_centrality</th>\n",
       "    </tr>\n",
       "    <tr>\n",
       "        <td style=\"padding-left: 1em; padding-right: 1em; text-align: center; vertical-align: top\">490</td>\n",
       "        <td style=\"padding-left: 1em; padding-right: 1em; text-align: center; vertical-align: top\">11</td>\n",
       "        <td style=\"padding-left: 1em; padding-right: 1em; text-align: center; vertical-align: top\">0</td>\n",
       "        <td style=\"padding-left: 1em; padding-right: 1em; text-align: center; vertical-align: top\">11</td>\n",
       "        <td style=\"padding-left: 1em; padding-right: 1em; text-align: center; vertical-align: top\">0.00222672064777</td>\n",
       "        <td style=\"padding-left: 1em; padding-right: 1em; text-align: center; vertical-align: top\">0.0727444079577</td>\n",
       "    </tr>\n",
       "    <tr>\n",
       "        <td style=\"padding-left: 1em; padding-right: 1em; text-align: center; vertical-align: top\">2608</td>\n",
       "        <td style=\"padding-left: 1em; padding-right: 1em; text-align: center; vertical-align: top\">6</td>\n",
       "        <td style=\"padding-left: 1em; padding-right: 1em; text-align: center; vertical-align: top\">4</td>\n",
       "        <td style=\"padding-left: 1em; padding-right: 1em; text-align: center; vertical-align: top\">10</td>\n",
       "        <td style=\"padding-left: 1em; padding-right: 1em; text-align: center; vertical-align: top\">0.00202429149798</td>\n",
       "        <td style=\"padding-left: 1em; padding-right: 1em; text-align: center; vertical-align: top\">0.0707574195027</td>\n",
       "    </tr>\n",
       "    <tr>\n",
       "        <td style=\"padding-left: 1em; padding-right: 1em; text-align: center; vertical-align: top\">2617</td>\n",
       "        <td style=\"padding-left: 1em; padding-right: 1em; text-align: center; vertical-align: top\">5</td>\n",
       "        <td style=\"padding-left: 1em; padding-right: 1em; text-align: center; vertical-align: top\">7</td>\n",
       "        <td style=\"padding-left: 1em; padding-right: 1em; text-align: center; vertical-align: top\">12</td>\n",
       "        <td style=\"padding-left: 1em; padding-right: 1em; text-align: center; vertical-align: top\">0.00242914979757</td>\n",
       "        <td style=\"padding-left: 1em; padding-right: 1em; text-align: center; vertical-align: top\">0.0690117627336</td>\n",
       "    </tr>\n",
       "    <tr>\n",
       "        <td style=\"padding-left: 1em; padding-right: 1em; text-align: center; vertical-align: top\">1030</td>\n",
       "        <td style=\"padding-left: 1em; padding-right: 1em; text-align: center; vertical-align: top\">5</td>\n",
       "        <td style=\"padding-left: 1em; padding-right: 1em; text-align: center; vertical-align: top\">5</td>\n",
       "        <td style=\"padding-left: 1em; padding-right: 1em; text-align: center; vertical-align: top\">10</td>\n",
       "        <td style=\"padding-left: 1em; padding-right: 1em; text-align: center; vertical-align: top\">0.00202429149798</td>\n",
       "        <td style=\"padding-left: 1em; padding-right: 1em; text-align: center; vertical-align: top\">0.0681529716903</td>\n",
       "    </tr>\n",
       "    <tr>\n",
       "        <td style=\"padding-left: 1em; padding-right: 1em; text-align: center; vertical-align: top\">2542</td>\n",
       "        <td style=\"padding-left: 1em; padding-right: 1em; text-align: center; vertical-align: top\">11</td>\n",
       "        <td style=\"padding-left: 1em; padding-right: 1em; text-align: center; vertical-align: top\">2</td>\n",
       "        <td style=\"padding-left: 1em; padding-right: 1em; text-align: center; vertical-align: top\">13</td>\n",
       "        <td style=\"padding-left: 1em; padding-right: 1em; text-align: center; vertical-align: top\">0.00263157894737</td>\n",
       "        <td style=\"padding-left: 1em; padding-right: 1em; text-align: center; vertical-align: top\">0.0680253373726</td>\n",
       "    </tr>\n",
       "    <tr>\n",
       "        <td style=\"padding-left: 1em; padding-right: 1em; text-align: center; vertical-align: top\">1106</td>\n",
       "        <td style=\"padding-left: 1em; padding-right: 1em; text-align: center; vertical-align: top\">9</td>\n",
       "        <td style=\"padding-left: 1em; padding-right: 1em; text-align: center; vertical-align: top\">1</td>\n",
       "        <td style=\"padding-left: 1em; padding-right: 1em; text-align: center; vertical-align: top\">10</td>\n",
       "        <td style=\"padding-left: 1em; padding-right: 1em; text-align: center; vertical-align: top\">0.00202429149798</td>\n",
       "        <td style=\"padding-left: 1em; padding-right: 1em; text-align: center; vertical-align: top\">0.0679813395351</td>\n",
       "    </tr>\n",
       "    <tr>\n",
       "        <td style=\"padding-left: 1em; padding-right: 1em; text-align: center; vertical-align: top\">1166</td>\n",
       "        <td style=\"padding-left: 1em; padding-right: 1em; text-align: center; vertical-align: top\">6</td>\n",
       "        <td style=\"padding-left: 1em; padding-right: 1em; text-align: center; vertical-align: top\">4</td>\n",
       "        <td style=\"padding-left: 1em; padding-right: 1em; text-align: center; vertical-align: top\">10</td>\n",
       "        <td style=\"padding-left: 1em; padding-right: 1em; text-align: center; vertical-align: top\">0.00202429149798</td>\n",
       "        <td style=\"padding-left: 1em; padding-right: 1em; text-align: center; vertical-align: top\">0.0677863768593</td>\n",
       "    </tr>\n",
       "    <tr>\n",
       "        <td style=\"padding-left: 1em; padding-right: 1em; text-align: center; vertical-align: top\">4458</td>\n",
       "        <td style=\"padding-left: 1em; padding-right: 1em; text-align: center; vertical-align: top\">5</td>\n",
       "        <td style=\"padding-left: 1em; padding-right: 1em; text-align: center; vertical-align: top\">13</td>\n",
       "        <td style=\"padding-left: 1em; padding-right: 1em; text-align: center; vertical-align: top\">18</td>\n",
       "        <td style=\"padding-left: 1em; padding-right: 1em; text-align: center; vertical-align: top\">0.00364372469636</td>\n",
       "        <td style=\"padding-left: 1em; padding-right: 1em; text-align: center; vertical-align: top\">0.0675453948808</td>\n",
       "    </tr>\n",
       "    <tr>\n",
       "        <td style=\"padding-left: 1em; padding-right: 1em; text-align: center; vertical-align: top\">2586</td>\n",
       "        <td style=\"padding-left: 1em; padding-right: 1em; text-align: center; vertical-align: top\">2</td>\n",
       "        <td style=\"padding-left: 1em; padding-right: 1em; text-align: center; vertical-align: top\">8</td>\n",
       "        <td style=\"padding-left: 1em; padding-right: 1em; text-align: center; vertical-align: top\">10</td>\n",
       "        <td style=\"padding-left: 1em; padding-right: 1em; text-align: center; vertical-align: top\">0.00202429149798</td>\n",
       "        <td style=\"padding-left: 1em; padding-right: 1em; text-align: center; vertical-align: top\">0.0673869154799</td>\n",
       "    </tr>\n",
       "    <tr>\n",
       "        <td style=\"padding-left: 1em; padding-right: 1em; text-align: center; vertical-align: top\">2282</td>\n",
       "        <td style=\"padding-left: 1em; padding-right: 1em; text-align: center; vertical-align: top\">6</td>\n",
       "        <td style=\"padding-left: 1em; padding-right: 1em; text-align: center; vertical-align: top\">5</td>\n",
       "        <td style=\"padding-left: 1em; padding-right: 1em; text-align: center; vertical-align: top\">11</td>\n",
       "        <td style=\"padding-left: 1em; padding-right: 1em; text-align: center; vertical-align: top\">0.00222672064777</td>\n",
       "        <td style=\"padding-left: 1em; padding-right: 1em; text-align: center; vertical-align: top\">0.067135984344</td>\n",
       "    </tr>\n",
       "</table>\n",
       "[10 rows x 6 columns]<br/>\n",
       "</div>"
      ],
      "text/plain": [
       "Columns:\n",
       "\t__id\tint\n",
       "\tin_degree\tint\n",
       "\tout_degree\tint\n",
       "\ttotal_degree\tint\n",
       "\td_centrality\tfloat\n",
       "\tc_centrality\tfloat\n",
       "\n",
       "Rows: 10\n",
       "\n",
       "Data:\n",
       "+------+-----------+------------+--------------+------------------+\n",
       "| __id | in_degree | out_degree | total_degree |   d_centrality   |\n",
       "+------+-----------+------------+--------------+------------------+\n",
       "| 490  |     11    |     0      |      11      | 0.00222672064777 |\n",
       "| 2608 |     6     |     4      |      10      | 0.00202429149798 |\n",
       "| 2617 |     5     |     7      |      12      | 0.00242914979757 |\n",
       "| 1030 |     5     |     5      |      10      | 0.00202429149798 |\n",
       "| 2542 |     11    |     2      |      13      | 0.00263157894737 |\n",
       "| 1106 |     9     |     1      |      10      | 0.00202429149798 |\n",
       "| 1166 |     6     |     4      |      10      | 0.00202429149798 |\n",
       "| 4458 |     5     |     13     |      18      | 0.00364372469636 |\n",
       "| 2586 |     2     |     8      |      10      | 0.00202429149798 |\n",
       "| 2282 |     6     |     5      |      11      | 0.00222672064777 |\n",
       "+------+-----------+------------+--------------+------------------+\n",
       "+-----------------+\n",
       "|   c_centrality  |\n",
       "+-----------------+\n",
       "| 0.0727444079577 |\n",
       "| 0.0707574195027 |\n",
       "| 0.0690117627336 |\n",
       "| 0.0681529716903 |\n",
       "| 0.0680253373726 |\n",
       "| 0.0679813395351 |\n",
       "| 0.0677863768593 |\n",
       "| 0.0675453948808 |\n",
       "| 0.0673869154799 |\n",
       "|  0.067135984344 |\n",
       "+-----------------+\n",
       "[10 rows x 6 columns]"
      ]
     },
     "execution_count": 7,
     "metadata": {},
     "output_type": "execute_result"
    }
   ],
   "source": [
    "top_50 = v[0:50]\n",
    "top_50['c_centrality'] = cc\n",
    "top_50.sort('c_centrality', ascending=False).head()"
   ]
  },
  {
   "cell_type": "code",
   "execution_count": 8,
   "metadata": {
    "collapsed": false
   },
   "outputs": [
    {
     "data": {
      "application/javascript": [
       "$(\"head\").append($(\"<link/>\").attr({\n",
       "  rel:  \"stylesheet\",\n",
       "  type: \"text/css\",\n",
       "  href: \"//cdnjs.cloudflare.com/ajax/libs/font-awesome/4.1.0/css/font-awesome.min.css\"\n",
       "}));\n",
       "$(\"head\").append($(\"<link/>\").attr({\n",
       "  rel:  \"stylesheet\",\n",
       "  type: \"text/css\",\n",
       "  href: \"https://static.turi.com/products/graphlab-create/2.1/canvas/css/canvas.css\"\n",
       "}));\n",
       "\n",
       "            (function(){\n",
       "\n",
       "                var e = null;\n",
       "                if (typeof element == 'undefined') {\n",
       "                    var scripts = document.getElementsByTagName('script');\n",
       "                    var thisScriptTag = scripts[scripts.length-1];\n",
       "                    var parentDiv = thisScriptTag.parentNode;\n",
       "                    e = document.createElement('div');\n",
       "                    parentDiv.appendChild(e);\n",
       "                } else {\n",
       "                    e = element[0];\n",
       "                }\n",
       "\n",
       "                if (typeof requirejs !== 'undefined') {\n",
       "                    // disable load timeout; ipython_app.js is large and can take a while to load.\n",
       "                    requirejs.config({waitSeconds: 0});\n",
       "                }\n",
       "\n",
       "                require(['https://static.turi.com/products/graphlab-create/2.1/canvas/js/ipython_app.js'], function(IPythonApp){\n",
       "                    var app = new IPythonApp();\n",
       "                    app.attachView('sgraph','View', {\"edges_labels\": null, \"selected_variable\": {\"name\": [\"subgraph\"], \"view_file\": \"sgraph\", \"view_component\": \"View\", \"view_params\": {\"elabel_hover\": false, \"vertex_positions\": null, \"h_offset\": 0.0, \"node_size\": 300, \"ecolor\": [0.37, 0.33, 0.33], \"elabel\": null, \"arrows\": false, \"ewidth\": 1, \"vlabel\": \"__id\", \"highlight_color\": [[0.69, 0.0, 0.498], [0.69, 0.0, 0.498], [0.69, 0.0, 0.498], [0.69, 0.0, 0.498], [0.69, 0.0, 0.498], [0.69, 0.0, 0.498], [0.69, 0.0, 0.498], [0.69, 0.0, 0.498], [0.69, 0.0, 0.498], [0.69, 0.0, 0.498], [0.69, 0.0, 0.498], [0.69, 0.0, 0.498], [0.69, 0.0, 0.498], [0.69, 0.0, 0.498], [0.69, 0.0, 0.498], [0.69, 0.0, 0.498], [0.69, 0.0, 0.498], [0.69, 0.0, 0.498], [0.69, 0.0, 0.498], [0.69, 0.0, 0.498], [0.69, 0.0, 0.498], [0.69, 0.0, 0.498], [0.69, 0.0, 0.498], [0.69, 0.0, 0.498], [0.69, 0.0, 0.498], [0.69, 0.0, 0.498], [0.69, 0.0, 0.498], [0.69, 0.0, 0.498], [0.69, 0.0, 0.498], [0.69, 0.0, 0.498], [0.69, 0.0, 0.498], [0.69, 0.0, 0.498], [0.69, 0.0, 0.498], [0.69, 0.0, 0.498], [0.69, 0.0, 0.498], [0.69, 0.0, 0.498], [0.69, 0.0, 0.498], [0.69, 0.0, 0.498], [0.69, 0.0, 0.498], [0.69, 0.0, 0.498], [0.69, 0.0, 0.498], [0.69, 0.0, 0.498], [0.69, 0.0, 0.498], [0.69, 0.0, 0.498], [0.69, 0.0, 0.498], [0.69, 0.0, 0.498], [0.69, 0.0, 0.498], [0.69, 0.0, 0.498], [0.69, 0.0, 0.498], [0.69, 0.0, 0.498]], \"vcolor\": [0.522, 0.741, 0.0], \"vlabel_hover\": false, \"highlight\": {\"4352\": [0.69, 0.0, 0.498], \"2434\": [0.69, 0.0, 0.498], \"1030\": [0.69, 0.0, 0.498], \"2439\": [0.69, 0.0, 0.498], \"4361\": [0.69, 0.0, 0.498], \"3468\": [0.69, 0.0, 0.498], \"1166\": [0.69, 0.0, 0.498], \"2575\": [0.69, 0.0, 0.498], \"1170\": [0.69, 0.0, 0.498], \"4373\": [0.69, 0.0, 0.498], \"2585\": [0.69, 0.0, 0.498], \"1050\": [0.69, 0.0, 0.498], \"3355\": [0.69, 0.0, 0.498], \"1309\": [0.69, 0.0, 0.498], \"4384\": [0.69, 0.0, 0.498], \"3312\": [0.69, 0.0, 0.498], \"2851\": [0.69, 0.0, 0.498], \"4392\": [0.69, 0.0, 0.498], \"4395\": [0.69, 0.0, 0.498], \"1326\": [0.69, 0.0, 0.498], \"4381\": [0.69, 0.0, 0.498], \"2608\": [0.69, 0.0, 0.498], \"4402\": [0.69, 0.0, 0.498], \"1460\": [0.69, 0.0, 0.498], \"1334\": [0.69, 0.0, 0.498], \"3895\": [0.69, 0.0, 0.498], \"2617\": [0.69, 0.0, 0.498], \"831\": [0.69, 0.0, 0.498], \"2717\": [0.69, 0.0, 0.498], \"1091\": [0.69, 0.0, 0.498], \"1224\": [0.69, 0.0, 0.498], \"2382\": [0.69, 0.0, 0.498], \"1106\": [0.69, 0.0, 0.498], \"725\": [0.69, 0.0, 0.498], \"4345\": [0.69, 0.0, 0.498], \"4359\": [0.69, 0.0, 0.498], \"2586\": [0.69, 0.0, 0.498], \"2533\": [0.69, 0.0, 0.498], \"2662\": [0.69, 0.0, 0.498], \"490\": [0.69, 0.0, 0.498], \"4332\": [0.69, 0.0, 0.498], \"1005\": [0.69, 0.0, 0.498], \"2542\": [0.69, 0.0, 0.498], \"2800\": [0.69, 0.0, 0.498], \"4458\": [0.69, 0.0, 0.498], \"2936\": [0.69, 0.0, 0.498], \"2553\": [0.69, 0.0, 0.498], \"2554\": [0.69, 0.0, 0.498], \"2282\": [0.69, 0.0, 0.498], \"3838\": [0.69, 0.0, 0.498]}, \"v_offset\": 0.03}, \"view_components\": [\"View\"], \"type\": \"SGraph\", \"descriptives_links\": {\"edges\": \"edges\", \"vertices\": \"vertices\"}, \"descriptives\": {\"edges\": 126, \"vertices\": 54}}, \"positions\": null, \"error_type\": 0, \"vertices\": [2971, 3304, 856, 4455, 2845, 4458, 2908, 2801, 3614, 829, 4466, 3284, 569, 2874, 3096, 2553, 4464, 3467, 2922, 4444, 4119, 4448, 3128, 3415, 837, 3305, 3470, 3303, 2995, 514, 4454, 3412, 3591, 4459, 3149, 3613, 2872, 4457, 2843, 2870, 3469, 2440, 521, 3141, 2809, 3526, 3479, 3592, 2999, 2871, 4465, 2721, 3468, 4463], \"vertices_labels\": [2971, 3304, 856, 4455, 2845, 4458, 2908, 2801, 3614, 829, 4466, 3284, 569, 2874, 3096, 2553, 4464, 3467, 2922, 4444, 4119, 4448, 3128, 3415, 837, 3305, 3470, 3303, 2995, 514, 4454, 3412, 3591, 4459, 3149, 3613, 2872, 4457, 2843, 2870, 3469, 2440, 521, 3141, 2809, 3526, 3479, 3592, 2999, 2871, 4465, 2721, 3468, 4463], \"edges\": [[2971, 2845], [4458, 856], [4458, 4455], [2845, 2971], [856, 4458], [4455, 4458], [4458, 829], [2801, 2553], [2801, 3284], [2971, 2553], [4458, 4466], [2845, 2553], [2908, 3096], [2908, 2553], [4458, 4464], [4458, 569], [4458, 4119], [2801, 2922], [4458, 4448], [4458, 4444], [4458, 837], [4458, 4459], [4458, 514], [2801, 2995], [4458, 4454], [4458, 4457], [2908, 2843], [4458, 521], [4458, 2440], [4458, 4463], [3614, 3468], [4458, 4465], [3304, 3468], [3284, 2801], [4466, 4458], [2553, 2971], [2553, 2845], [2553, 2908], [4464, 4458], [829, 4458], [3096, 2908], [569, 4458], [2553, 2801], [2553, 3096], [3096, 2553], [2874, 2553], [3284, 2553], [2553, 3284], [2553, 2874], [2553, 2922], [3284, 3128], [2553, 3128], [2553, 2872], [2553, 2995], [2553, 3149], [2553, 2870], [3096, 2843], [2553, 2843], [2553, 2809], [2553, 3141], [3284, 3141], [2553, 2871], [2553, 2721], [2553, 2999], [4444, 4458], [2922, 2801], [4119, 4458], [4448, 4458], [2922, 2553], [4448, 521], [3467, 3468], [837, 4458], [3128, 3284], [3128, 2553], [3128, 3149], [3305, 3468], [3415, 3468], [3470, 3468], [3303, 3468], [4459, 4458], [4457, 4458], [4454, 4458], [514, 4458], [2995, 2801], [2872, 2553], [2995, 2553], [3149, 2553], [3149, 3128], [3591, 3468], [3412, 3468], [3613, 3468], [2843, 2908], [2843, 2553], [2843, 3096], [2870, 2553], [2843, 2809], [3469, 3468], [2440, 4458], [521, 4458], [3141, 2553], [2809, 2553], [3141, 3284], [521, 4448], [2809, 2843], [3526, 3468], [3468, 3304], [4463, 4458], [3468, 3614], [4465, 4458], [2999, 2553], [2721, 2553], [2871, 2553], [3468, 3467], [3468, 3470], [3468, 3415], [3468, 3303], [3468, 3305], [3468, 3591], [3468, 3412], [3468, 3613], [3468, 3469], [3468, 3526], [3468, 3479], [3479, 3468], [3592, 3468], [3468, 3592]], \"ipython\": true, \"error_msg\": \"\"}, e);\n",
       "                });\n",
       "            })();\n",
       "        "
      ]
     },
     "metadata": {},
     "output_type": "display_data"
    }
   ],
   "source": [
    "subgraph = g.get_neighborhood(top_50['__id'][:3])\n",
    "subgraph.show(vlabel='__id', highlight=top_50['__id'])"
   ]
  },
  {
   "cell_type": "code",
   "execution_count": 9,
   "metadata": {
    "collapsed": false
   },
   "outputs": [
    {
     "name": "stdout",
     "output_type": "stream",
     "text": [
      "+------+---------------+-----------------+\n",
      "| __id |    pagerank   |      delta      |\n",
      "+------+---------------+-----------------+\n",
      "| 4458 | 5.98539719053 | 0.0548204559701 |\n",
      "| 3468 | 5.02606554054 |  0.423393855768 |\n",
      "| 831  | 4.94197061655 |  0.694933987117 |\n",
      "| 2553 | 4.93120134233 | 0.0245761875212 |\n",
      "| 1224 | 4.46150148994 |  0.376075521721 |\n",
      "+------+---------------+-----------------+\n",
      "[5 rows x 3 columns]\n",
      "\n"
     ]
    }
   ],
   "source": [
    "#pagerank of each node\n",
    "pr = gl.pagerank.create(g, max_iterations=10, verbose=False)\n",
    "pr_out = pr['pagerank']\n",
    "top_pr = pr_out.topk('pagerank', k=5)\n",
    "print top_pr"
   ]
  },
  {
   "cell_type": "code",
   "execution_count": 10,
   "metadata": {
    "collapsed": false
   },
   "outputs": [
    {
     "data": {
      "application/javascript": [
       "$(\"head\").append($(\"<link/>\").attr({\n",
       "  rel:  \"stylesheet\",\n",
       "  type: \"text/css\",\n",
       "  href: \"//cdnjs.cloudflare.com/ajax/libs/font-awesome/4.1.0/css/font-awesome.min.css\"\n",
       "}));\n",
       "$(\"head\").append($(\"<link/>\").attr({\n",
       "  rel:  \"stylesheet\",\n",
       "  type: \"text/css\",\n",
       "  href: \"https://static.turi.com/products/graphlab-create/2.1/canvas/css/canvas.css\"\n",
       "}));\n",
       "\n",
       "            (function(){\n",
       "\n",
       "                var e = null;\n",
       "                if (typeof element == 'undefined') {\n",
       "                    var scripts = document.getElementsByTagName('script');\n",
       "                    var thisScriptTag = scripts[scripts.length-1];\n",
       "                    var parentDiv = thisScriptTag.parentNode;\n",
       "                    e = document.createElement('div');\n",
       "                    parentDiv.appendChild(e);\n",
       "                } else {\n",
       "                    e = element[0];\n",
       "                }\n",
       "\n",
       "                if (typeof requirejs !== 'undefined') {\n",
       "                    // disable load timeout; ipython_app.js is large and can take a while to load.\n",
       "                    requirejs.config({waitSeconds: 0});\n",
       "                }\n",
       "\n",
       "                require(['https://static.turi.com/products/graphlab-create/2.1/canvas/js/ipython_app.js'], function(IPythonApp){\n",
       "                    var app = new IPythonApp();\n",
       "                    app.attachView('sgraph','View', {\"edges_labels\": null, \"selected_variable\": {\"name\": [\"subgraph\"], \"view_file\": \"sgraph\", \"view_component\": \"View\", \"view_params\": {\"elabel_hover\": false, \"vertex_positions\": null, \"h_offset\": 0.0, \"node_size\": 300, \"ecolor\": [0.37, 0.33, 0.33], \"elabel\": null, \"arrows\": false, \"ewidth\": 1, \"vlabel\": \"__id\", \"highlight_color\": [[0.69, 0.0, 0.498], [0.69, 0.0, 0.498], [0.69, 0.0, 0.498], [0.69, 0.0, 0.498], [0.69, 0.0, 0.498]], \"vcolor\": [0.522, 0.741, 0.0], \"vlabel_hover\": false, \"highlight\": {\"1224\": [0.69, 0.0, 0.498], \"2553\": [0.69, 0.0, 0.498], \"4458\": [0.69, 0.0, 0.498], \"3468\": [0.69, 0.0, 0.498], \"831\": [0.69, 0.0, 0.498]}, \"v_offset\": 0.03}, \"view_components\": [\"View\"], \"type\": \"SGraph\", \"descriptives_links\": {\"edges\": \"edges\", \"vertices\": \"vertices\"}, \"descriptives\": {\"edges\": 184, \"vertices\": 82}}, \"positions\": null, \"error_type\": 0, \"vertices\": [3304, 856, 4455, 2908, 4458, 2845, 855, 2971, 1727, 2801, 895, 1077, 1224, 3614, 2194, 829, 4466, 3284, 569, 2874, 3096, 2553, 4464, 867, 3467, 2922, 4444, 868, 4119, 4448, 905, 910, 1647, 3305, 3470, 3128, 832, 1262, 3303, 837, 3415, 831, 1799, 920, 2872, 1225, 2995, 3149, 514, 3591, 4454, 3412, 4459, 3613, 4457, 869, 906, 1084, 2843, 1082, 2870, 904, 3469, 521, 1432, 2809, 3141, 903, 1594, 932, 2440, 3526, 3479, 3592, 2999, 4465, 2871, 919, 1746, 2721, 3468, 4463], \"vertices_labels\": [3304, 856, 4455, 2908, 4458, 2845, 855, 2971, 1727, 2801, 895, 1077, 1224, 3614, 2194, 829, 4466, 3284, 569, 2874, 3096, 2553, 4464, 867, 3467, 2922, 4444, 868, 4119, 4448, 905, 910, 1647, 3305, 3470, 3128, 832, 1262, 3303, 837, 3415, 831, 1799, 920, 2872, 1225, 2995, 3149, 514, 3591, 4454, 3412, 4459, 3613, 4457, 869, 906, 1084, 2843, 1082, 2870, 904, 3469, 521, 1432, 2809, 3141, 903, 1594, 932, 2440, 3526, 3479, 3592, 2999, 4465, 2871, 919, 1746, 2721, 3468, 4463], \"edges\": [[1727, 1224], [2971, 2845], [855, 856], [4458, 856], [4458, 4455], [2845, 2971], [856, 4458], [4455, 4458], [1224, 1727], [1224, 1077], [856, 855], [1077, 1224], [4458, 4464], [4458, 569], [4458, 829], [2801, 2553], [2801, 3284], [2971, 2553], [4458, 4466], [1224, 2194], [2845, 2553], [2908, 3096], [2908, 2553], [4458, 4119], [2801, 2922], [4458, 4448], [4458, 4444], [4458, 837], [1224, 1647], [1224, 1262], [4458, 4459], [4458, 514], [2801, 2995], [4458, 4454], [4458, 4457], [855, 831], [1224, 1225], [1224, 1799], [895, 831], [895, 869], [1224, 1084], [2908, 2843], [1224, 1082], [4458, 2440], [1224, 1594], [4458, 521], [1224, 1432], [4458, 4463], [3614, 3468], [1224, 1746], [4458, 4465], [3304, 3468], [3284, 2801], [4466, 4458], [2553, 2971], [2553, 2845], [2553, 2908], [4464, 4458], [829, 4458], [3096, 2908], [569, 4458], [2553, 2801], [2194, 1224], [2553, 3096], [3096, 2553], [2874, 2553], [3284, 2553], [2553, 3284], [2553, 2874], [2553, 2922], [3284, 3128], [2553, 3128], [2553, 2872], [2553, 2995], [2553, 3149], [2553, 2870], [3096, 2843], [2553, 2843], [3284, 3141], [2553, 2809], [2553, 3141], [2553, 2871], [2553, 2721], [2553, 2999], [4444, 4458], [2922, 2801], [4119, 4458], [4448, 4458], [2922, 2553], [868, 831], [867, 831], [4448, 521], [3467, 3468], [1647, 1224], [1262, 1224], [837, 4458], [3128, 3284], [3128, 2553], [905, 831], [910, 831], [832, 831], [3128, 3149], [832, 521], [3305, 3468], [3415, 3468], [3470, 3468], [3303, 3468], [831, 855], [1225, 1224], [514, 4458], [2995, 2801], [831, 895], [4459, 4458], [4457, 4458], [4454, 4458], [1799, 1224], [2995, 2553], [2872, 2553], [3149, 2553], [831, 868], [831, 867], [3149, 3128], [831, 905], [831, 910], [831, 832], [920, 831], [831, 920], [831, 904], [831, 906], [831, 869], [831, 903], [831, 932], [831, 919], [3591, 3468], [3613, 3468], [3412, 3468], [1082, 1224], [2843, 2908], [869, 895], [1084, 1224], [2843, 2553], [2843, 3096], [2870, 2553], [906, 831], [904, 831], [869, 831], [2843, 2809], [3469, 3468], [521, 4458], [2440, 4458], [1594, 1224], [1432, 1224], [3141, 2553], [2809, 2553], [3141, 3284], [521, 4448], [521, 832], [903, 831], [932, 831], [2809, 2843], [3526, 3468], [3468, 3304], [4463, 4458], [1746, 1224], [4465, 4458], [3468, 3614], [2999, 2553], [2721, 2553], [2871, 2553], [3468, 3467], [3468, 3470], [3468, 3415], [3468, 3303], [3468, 3305], [3468, 3591], [3468, 3412], [3468, 3613], [919, 831], [3468, 3469], [3468, 3526], [3468, 3592], [3468, 3479], [3479, 3468], [3592, 3468]], \"ipython\": true, \"error_msg\": \"\"}, e);\n",
       "                });\n",
       "            })();\n",
       "        "
      ]
     },
     "metadata": {},
     "output_type": "display_data"
    }
   ],
   "source": [
    "subgraph = g.get_neighborhood(top_pr['__id'])\n",
    "subgraph.show(vlabel='__id', highlight=top_pr['__id'])"
   ]
  }
 ],
 "metadata": {
  "kernelspec": {
   "display_name": "Python 2",
   "language": "python",
   "name": "python2"
  },
  "language_info": {
   "codemirror_mode": {
    "name": "ipython",
    "version": 2
   },
   "file_extension": ".py",
   "mimetype": "text/x-python",
   "name": "python",
   "nbconvert_exporter": "python",
   "pygments_lexer": "ipython2",
   "version": "2.7.13"
  }
 },
 "nbformat": 4,
 "nbformat_minor": 0
}
